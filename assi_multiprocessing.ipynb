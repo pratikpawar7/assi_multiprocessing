{
 "cells": [
  {
   "cell_type": "code",
   "execution_count": null,
   "id": "ea312854-d832-41c4-95ea-c95597b5c1a5",
   "metadata": {},
   "outputs": [],
   "source": [
    "'''\n",
    "Q1. What is multiprocessing in Python? Why is it useful?\n",
    "'''.\n",
    "\n",
    "Multiprocessing in Python refers to the ability of the language to create multiple processes \n",
    "to execute tasks concurrently. Each process has its own memory space and runs independently of others. \n",
    "This is particularly useful for CPU-bound tasks that can benefit from parallelism and can take \n",
    "advantage of multiple CPU cores to improve performance. By using multiprocessing, you can achieve \n",
    "true parallelism, which can speed up certain types of computations significantly."
   ]
  },
  {
   "cell_type": "code",
   "execution_count": null,
   "id": "ab1ac0bb-0273-4c30-83ea-abee85f0094d",
   "metadata": {},
   "outputs": [],
   "source": [
    "'''\n",
    "Q2. What are the differences between multiprocessing and multithreading?\n",
    "'''.\n",
    "\n",
    "multiprocessing is better suited for CPU-bound tasks that can benefit from true\n",
    "    parallelism across multiple CPU cores , while .\n",
    "multithreading is more appropriate\n",
    "    for I/O-bound tasks and situations where shared data and synchronization are needed \n",
    "    within a single process"
   ]
  },
  {
   "cell_type": "code",
   "execution_count": 1,
   "id": "9932eabf-6c49-4c6f-b080-c47f635a149e",
   "metadata": {},
   "outputs": [
    {
     "name": "stdout",
     "output_type": "stream",
     "text": [
      "This is a process.\n",
      "Main process is done.\n"
     ]
    }
   ],
   "source": [
    "'''\n",
    "Q3. Write a Python code to create a process using the multiprocessing module.\n",
    "'''\n",
    "\n",
    "import multiprocessing\n",
    "\n",
    "def my_function():\n",
    "    print(\"This is a process.\")\n",
    "\n",
    "if __name__ == \"__main__\":\n",
    "    # Create a process\n",
    "    process = multiprocessing.Process(target=my_function)\n",
    "\n",
    "    # Start the process\n",
    "    process.start()\n",
    "\n",
    "    process.join()\n",
    "\n",
    "    print(\"Main process is done.\")\n"
   ]
  },
  {
   "cell_type": "code",
   "execution_count": null,
   "id": "72e88c26-c475-44a5-b3a4-b51707f2ec19",
   "metadata": {},
   "outputs": [],
   "source": [
    "'''\n",
    "Q4. What is a multiprocessing pool in Python? Why is it used?\n",
    "'''\n",
    "A multiprocessing pool in Python, specifically the multiprocessing.Pool class, is a\n",
    "high-level interface to create a pool of worker processes. It allows distributing tasks\n",
    "across multiple processes efficiently. The pool manages a group of worker processes that\n",
    "are ready to perform tasks in parallel.\n",
    "\n",
    "use:\n",
    "    The main advantage of using a multiprocessing pool is that it can simplify the process\n",
    "    of parallelizing tasks. Instead of manually creating and managing multiple processes."
   ]
  },
  {
   "cell_type": "code",
   "execution_count": 2,
   "id": "c2478d78-5096-4704-9c43-3af53603b902",
   "metadata": {},
   "outputs": [
    {
     "name": "stdout",
     "output_type": "stream",
     "text": [
      "[1, 4, 9, 16, 25, 36]\n"
     ]
    }
   ],
   "source": [
    "'''\n",
    "Q5. How can we create a pool of worker processes in Python using the multiprocessing module?\n",
    "'''\n",
    "\n",
    "import multiprocessing\n",
    "\n",
    "def square_number(x):\n",
    "    return x * x\n",
    "\n",
    "if __name__ == \"__main__\":\n",
    "    # Create a multiprocessing pool with 4 worker processes\n",
    "    with multiprocessing.Pool(processes=4) as pool:\n",
    "        # Map the square_number function to a list of numbers\n",
    "        numbers = [1, 2, 3, 4, 5, 6]\n",
    "        results = pool.map(square_number, numbers)\n",
    "\n",
    "    print(results)\n"
   ]
  },
  {
   "cell_type": "code",
   "execution_count": 3,
   "id": "4fbc5de7-c30a-457a-9479-6208ab0939b0",
   "metadata": {},
   "outputs": [
    {
     "name": "stdout",
     "output_type": "stream",
     "text": [
      "Process 0: 0\n",
      "Process 1: 1\n",
      "Process 2: 2\n",
      "Process 3: 3\n",
      "All processes are done.\n"
     ]
    }
   ],
   "source": [
    "'''\n",
    "Q6. Write a Python program to create 4 processes, each process should print a different\n",
    "number using the multiprocessing module in Python.\n",
    "'''\n",
    "\n",
    "import multiprocessing\n",
    "\n",
    "def print_number(number):\n",
    "    print(f\"Process {number}: {number}\")\n",
    "\n",
    "if __name__ == \"__main__\":\n",
    "    processes = []\n",
    "    for i in range(4):\n",
    "        process = multiprocessing.Process(target=print_number, args=(i,))\n",
    "        processes.append(process)\n",
    "        process.start()\n",
    "\n",
    "    for process in processes:\n",
    "        process.join()\n",
    "\n",
    "    print(\"All processes are done.\")\n"
   ]
  },
  {
   "cell_type": "code",
   "execution_count": null,
   "id": "2fd3f93e-69a9-49c2-b493-c6c3bf6ce1d7",
   "metadata": {},
   "outputs": [],
   "source": []
  }
 ],
 "metadata": {
  "kernelspec": {
   "display_name": "Python 3 (ipykernel)",
   "language": "python",
   "name": "python3"
  },
  "language_info": {
   "codemirror_mode": {
    "name": "ipython",
    "version": 3
   },
   "file_extension": ".py",
   "mimetype": "text/x-python",
   "name": "python",
   "nbconvert_exporter": "python",
   "pygments_lexer": "ipython3",
   "version": "3.10.8"
  }
 },
 "nbformat": 4,
 "nbformat_minor": 5
}
